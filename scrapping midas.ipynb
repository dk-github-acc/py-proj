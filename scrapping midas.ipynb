{
 "cells": [
  {
   "cell_type": "code",
   "execution_count": null,
   "metadata": {},
   "outputs": [],
   "source": [
    "#crawling and scraping midas-iiitd webpg\n",
    "\n",
    "import requests \n",
    "URL = \"http://midas.iiitd.edu.in/\"\n",
    "wlink = requests.get(URL) \n",
    "print(wlink.content) "
   ]
  },
  {
   "cell_type": "code",
   "execution_count": null,
   "metadata": {},
   "outputs": [],
   "source": [
    "from bs4 import BeautifulSoup\n",
    "soup=BeautifulSoup(wlink.content,'html5lib')\n",
    "print(soup)"
   ]
  },
  {
   "cell_type": "code",
   "execution_count": null,
   "metadata": {},
   "outputs": [],
   "source": [
    "print(soup.prettify())"
   ]
  },
  {
   "cell_type": "code",
   "execution_count": null,
   "metadata": {},
   "outputs": [],
   "source": [
    "print(soup.text)"
   ]
  },
  {
   "cell_type": "code",
   "execution_count": null,
   "metadata": {},
   "outputs": [],
   "source": [
    "from urllib.request import urlopen \n",
    "from bs4 import BeautifulSoup\n",
    "#import re\n",
    "images=soup.find_all('img')\n",
    "print(images)\n",
    "for im in images:\n",
    "    print(im['src']+'\\n')\n",
    "    \n"
   ]
  },
  {
   "cell_type": "code",
   "execution_count": null,
   "metadata": {},
   "outputs": [],
   "source": [
    "fpgtext=soup.findAll(\"p\")\n",
    "print(fpgtext)"
   ]
  },
  {
   "cell_type": "code",
   "execution_count": null,
   "metadata": {},
   "outputs": [],
   "source": [
    "for i in range(0,len(fpgtext)) :\n",
    "    print(fpgtext[i].get_text())"
   ]
  },
  {
   "cell_type": "code",
   "execution_count": null,
   "metadata": {},
   "outputs": [],
   "source": [
    "f=open(\"midastxt.txt\",'w',encoding =\"UTF-8\") \n",
    "#fpgtext=soup.findAll()\n",
    "list_ = []\n",
    "for i in range(0,len(fpgtext)) :\n",
    "    print(fpgtext[i].get_text())\n",
    "    \"\"\"  print(fpgtext[i].get_text() in list_)\n",
    "       if fpgtext[i].get_text() not in list_:\n",
    "          list_.append(fpgtext[i].get_text()) \"\"\"\n",
    "    f.write(fpgtext[i].get_text())\n",
    "    f.write(\" \\n\")\n",
    "    #else: pass\n",
    "    \n",
    "f.close()"
   ]
  },
  {
   "cell_type": "code",
   "execution_count": null,
   "metadata": {},
   "outputs": [],
   "source": [
    "f=open(\"midastxt.txt\",'r')\n",
    "print(f.read())\n",
    "f.close()"
   ]
  },
  {
   "cell_type": "code",
   "execution_count": null,
   "metadata": {},
   "outputs": [],
   "source": [
    "fi=open(\"imgurl.txt\",'w')\n",
    "images=soup.findAll(\"img\")\n",
    "for im in images :\n",
    "    print(im['src']+\"\\n\")\n",
    "    fi.write(im['src']+\"\\n\\n\")\n",
    "\n",
    "fi.close()"
   ]
  },
  {
   "cell_type": "code",
   "execution_count": null,
   "metadata": {},
   "outputs": [],
   "source": [
    "fi=open(\"imgurl.txt\",'r')\n",
    "print(fi.read())\n",
    "fi.close()"
   ]
  }
 ],
 "metadata": {
  "kernelspec": {
   "display_name": "Python 3",
   "language": "python",
   "name": "python3"
  },
  "language_info": {
   "codemirror_mode": {
    "name": "ipython",
    "version": 3
   },
   "file_extension": ".py",
   "mimetype": "text/x-python",
   "name": "python",
   "nbconvert_exporter": "python",
   "pygments_lexer": "ipython3",
   "version": "3.7.3"
  }
 },
 "nbformat": 4,
 "nbformat_minor": 2
}
